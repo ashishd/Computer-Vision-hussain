{
  "nbformat": 4,
  "nbformat_minor": 0,
  "metadata": {
    "colab": {
      "provenance": [],
      "toc_visible": true,
      "authorship_tag": "ABX9TyNGpNdG8iE6qfHa7WpuMkNb",
      "include_colab_link": true
    },
    "kernelspec": {
      "name": "python3",
      "display_name": "Python 3"
    },
    "language_info": {
      "name": "python"
    }
  },
  "cells": [
    {
      "cell_type": "markdown",
      "metadata": {
        "id": "view-in-github",
        "colab_type": "text"
      },
      "source": [
        "<a href=\"https://colab.research.google.com/github/hussain0048/Computer-Vision-/blob/main/Introduction_to_Computer_Vision.ipynb\" target=\"_parent\"><img src=\"https://colab.research.google.com/assets/colab-badge.svg\" alt=\"Open In Colab\"/></a>"
      ]
    },
    {
      "cell_type": "code",
      "execution_count": null,
      "metadata": {
        "id": "Rmu-MNuTwycy"
      },
      "outputs": [],
      "source": []
    },
    {
      "cell_type": "markdown",
      "source": [
        "# **References**"
      ],
      "metadata": {
        "id": "NncxVrRuw29l"
      }
    },
    {
      "cell_type": "markdown",
      "source": [
        "[1-Computer Vision Tutorial Series M1C1](https://pub.towardsai.net/computer-vision-tutorial-series-m1c1-535c27cd36ca)"
      ],
      "metadata": {
        "id": "RfEeFKmbw8B8"
      }
    },
    {
      "cell_type": "markdown",
      "source": [
        "[2-Module 1 — Image Representation and Classification](https://medium.com/towards-artificial-intelligence/computer-vision-tutorial-series-m1c2-13628dceab33)"
      ],
      "metadata": {
        "id": "5yy0neqmxFZL"
      }
    }
  ]
}